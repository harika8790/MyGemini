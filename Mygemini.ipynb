{
 "cells": [
  {
   "cell_type": "code",
   "execution_count": 1,
   "id": "deeef61e-659f-44ca-b12d-6bfa56d0168c",
   "metadata": {},
   "outputs": [
    {
     "data": {
      "application/vnd.jupyter.widget-view+json": {
       "model_id": "f624c1df1a5e499bb923721736c5cc49",
       "version_major": 2,
       "version_minor": 0
      },
      "text/plain": [
       "IntSlider(value=0)"
      ]
     },
     "execution_count": 1,
     "metadata": {},
     "output_type": "execute_result"
    }
   ],
   "source": [
    "import ipywidgets as widgets\n",
    "widgets.IntSlider()"
   ]
  },
  {
   "cell_type": "code",
   "execution_count": 2,
   "id": "9986f5ff-7d35-45f6-9dfa-cc1cf433fced",
   "metadata": {},
   "outputs": [
    {
     "name": "stdout",
     "output_type": "stream",
     "text": [
      "Requirement already satisfied: google-generativeai in c:\\users\\menih\\anaconda3\\envs\\testinggemini\\lib\\site-packages (0.8.5)\n",
      "Requirement already satisfied: google-ai-generativelanguage==0.6.15 in c:\\users\\menih\\anaconda3\\envs\\testinggemini\\lib\\site-packages (from google-generativeai) (0.6.15)\n",
      "Requirement already satisfied: google-api-core in c:\\users\\menih\\anaconda3\\envs\\testinggemini\\lib\\site-packages (from google-generativeai) (2.25.1)\n",
      "Requirement already satisfied: google-api-python-client in c:\\users\\menih\\anaconda3\\envs\\testinggemini\\lib\\site-packages (from google-generativeai) (2.176.0)\n",
      "Requirement already satisfied: google-auth>=2.15.0 in c:\\users\\menih\\anaconda3\\envs\\testinggemini\\lib\\site-packages (from google-generativeai) (2.40.3)\n",
      "Requirement already satisfied: protobuf in c:\\users\\menih\\anaconda3\\envs\\testinggemini\\lib\\site-packages (from google-generativeai) (5.29.5)\n",
      "Requirement already satisfied: pydantic in c:\\users\\menih\\anaconda3\\envs\\testinggemini\\lib\\site-packages (from google-generativeai) (2.11.7)\n",
      "Requirement already satisfied: tqdm in c:\\users\\menih\\anaconda3\\envs\\testinggemini\\lib\\site-packages (from google-generativeai) (4.67.1)\n",
      "Requirement already satisfied: typing-extensions in c:\\users\\menih\\anaconda3\\envs\\testinggemini\\lib\\site-packages (from google-generativeai) (4.14.1)\n",
      "Requirement already satisfied: proto-plus<2.0.0dev,>=1.22.3 in c:\\users\\menih\\anaconda3\\envs\\testinggemini\\lib\\site-packages (from google-ai-generativelanguage==0.6.15->google-generativeai) (1.26.1)\n",
      "Requirement already satisfied: googleapis-common-protos<2.0.0,>=1.56.2 in c:\\users\\menih\\anaconda3\\envs\\testinggemini\\lib\\site-packages (from google-api-core->google-generativeai) (1.70.0)\n",
      "Requirement already satisfied: requests<3.0.0,>=2.18.0 in c:\\users\\menih\\anaconda3\\envs\\testinggemini\\lib\\site-packages (from google-api-core->google-generativeai) (2.32.4)\n",
      "Requirement already satisfied: grpcio<2.0.0,>=1.33.2 in c:\\users\\menih\\anaconda3\\envs\\testinggemini\\lib\\site-packages (from google-api-core[grpc]!=2.0.*,!=2.1.*,!=2.10.*,!=2.2.*,!=2.3.*,!=2.4.*,!=2.5.*,!=2.6.*,!=2.7.*,!=2.8.*,!=2.9.*,<3.0.0dev,>=1.34.1->google-ai-generativelanguage==0.6.15->google-generativeai) (1.73.1)\n",
      "Requirement already satisfied: grpcio-status<2.0.0,>=1.33.2 in c:\\users\\menih\\anaconda3\\envs\\testinggemini\\lib\\site-packages (from google-api-core[grpc]!=2.0.*,!=2.1.*,!=2.10.*,!=2.2.*,!=2.3.*,!=2.4.*,!=2.5.*,!=2.6.*,!=2.7.*,!=2.8.*,!=2.9.*,<3.0.0dev,>=1.34.1->google-ai-generativelanguage==0.6.15->google-generativeai) (1.71.2)\n",
      "Requirement already satisfied: cachetools<6.0,>=2.0.0 in c:\\users\\menih\\anaconda3\\envs\\testinggemini\\lib\\site-packages (from google-auth>=2.15.0->google-generativeai) (5.5.2)\n",
      "Requirement already satisfied: pyasn1-modules>=0.2.1 in c:\\users\\menih\\anaconda3\\envs\\testinggemini\\lib\\site-packages (from google-auth>=2.15.0->google-generativeai) (0.4.2)\n",
      "Requirement already satisfied: rsa<5,>=3.1.4 in c:\\users\\menih\\anaconda3\\envs\\testinggemini\\lib\\site-packages (from google-auth>=2.15.0->google-generativeai) (4.9.1)\n",
      "Requirement already satisfied: charset_normalizer<4,>=2 in c:\\users\\menih\\anaconda3\\envs\\testinggemini\\lib\\site-packages (from requests<3.0.0,>=2.18.0->google-api-core->google-generativeai) (3.4.2)\n",
      "Requirement already satisfied: idna<4,>=2.5 in c:\\users\\menih\\anaconda3\\envs\\testinggemini\\lib\\site-packages (from requests<3.0.0,>=2.18.0->google-api-core->google-generativeai) (3.10)\n",
      "Requirement already satisfied: urllib3<3,>=1.21.1 in c:\\users\\menih\\anaconda3\\envs\\testinggemini\\lib\\site-packages (from requests<3.0.0,>=2.18.0->google-api-core->google-generativeai) (2.5.0)\n",
      "Requirement already satisfied: certifi>=2017.4.17 in c:\\users\\menih\\anaconda3\\envs\\testinggemini\\lib\\site-packages (from requests<3.0.0,>=2.18.0->google-api-core->google-generativeai) (2025.7.14)\n",
      "Requirement already satisfied: pyasn1>=0.1.3 in c:\\users\\menih\\anaconda3\\envs\\testinggemini\\lib\\site-packages (from rsa<5,>=3.1.4->google-auth>=2.15.0->google-generativeai) (0.6.1)\n",
      "Requirement already satisfied: httplib2<1.0.0,>=0.19.0 in c:\\users\\menih\\anaconda3\\envs\\testinggemini\\lib\\site-packages (from google-api-python-client->google-generativeai) (0.22.0)\n",
      "Requirement already satisfied: google-auth-httplib2<1.0.0,>=0.2.0 in c:\\users\\menih\\anaconda3\\envs\\testinggemini\\lib\\site-packages (from google-api-python-client->google-generativeai) (0.2.0)\n",
      "Requirement already satisfied: uritemplate<5,>=3.0.1 in c:\\users\\menih\\anaconda3\\envs\\testinggemini\\lib\\site-packages (from google-api-python-client->google-generativeai) (4.2.0)\n",
      "Requirement already satisfied: pyparsing!=3.0.0,!=3.0.1,!=3.0.2,!=3.0.3,<4,>=2.4.2 in c:\\users\\menih\\anaconda3\\envs\\testinggemini\\lib\\site-packages (from httplib2<1.0.0,>=0.19.0->google-api-python-client->google-generativeai) (3.2.3)\n",
      "Requirement already satisfied: annotated-types>=0.6.0 in c:\\users\\menih\\anaconda3\\envs\\testinggemini\\lib\\site-packages (from pydantic->google-generativeai) (0.7.0)\n",
      "Requirement already satisfied: pydantic-core==2.33.2 in c:\\users\\menih\\anaconda3\\envs\\testinggemini\\lib\\site-packages (from pydantic->google-generativeai) (2.33.2)\n",
      "Requirement already satisfied: typing-inspection>=0.4.0 in c:\\users\\menih\\anaconda3\\envs\\testinggemini\\lib\\site-packages (from pydantic->google-generativeai) (0.4.1)\n",
      "Requirement already satisfied: colorama in c:\\users\\menih\\anaconda3\\envs\\testinggemini\\lib\\site-packages (from tqdm->google-generativeai) (0.4.6)\n",
      "Note: you may need to restart the kernel to use updated packages.\n"
     ]
    }
   ],
   "source": [
    "pip install google-generativeai"
   ]
  },
  {
   "cell_type": "code",
   "execution_count": 2,
   "id": "466bb102-f28f-47d3-817b-9b4e9d478d60",
   "metadata": {},
   "outputs": [
    {
     "name": "stdin",
     "output_type": "stream",
     "text": [
      "\n",
      "Enter your question (or type 'exit' to quit):  hi\n"
     ]
    },
    {
     "name": "stdout",
     "output_type": "stream",
     "text": [
      "\n",
      "Response: Hi there! How can I help you today?\n",
      "\n"
     ]
    },
    {
     "name": "stdin",
     "output_type": "stream",
     "text": [
      "\n",
      "Enter your question (or type 'exit' to quit):  capital of india\n"
     ]
    },
    {
     "name": "stdout",
     "output_type": "stream",
     "text": [
      "\n",
      "Response: The capital of India is **New Delhi**.\n",
      "\n"
     ]
    },
    {
     "name": "stdin",
     "output_type": "stream",
     "text": [
      "\n",
      "Enter your question (or type 'exit' to quit):  tell me one word about india\n"
     ]
    },
    {
     "name": "stdout",
     "output_type": "stream",
     "text": [
      "\n",
      "Response: Diverse\n",
      "\n"
     ]
    },
    {
     "name": "stdin",
     "output_type": "stream",
     "text": [
      "\n",
      "Enter your question (or type 'exit' to quit):  definiton of generative ai\n"
     ]
    },
    {
     "name": "stdout",
     "output_type": "stream",
     "text": [
      "\n",
      "Response: Generative AI refers to a type of artificial intelligence that can create new content, rather than just analyzing or classifying existing data.  This content can take many forms, including:\n",
      "\n",
      "* **Text:**  Writing stories, articles, poems, code, scripts, summaries, and more.\n",
      "* **Images:** Generating realistic or stylized images from text descriptions or other inputs.\n",
      "* **Audio:** Creating music, sound effects, and speech.\n",
      "* **Video:** Generating short video clips.\n",
      "* **3D models:** Creating three-dimensional objects and environments.\n",
      "\n",
      "Unlike discriminative AI, which focuses on classifying or distinguishing between different categories of data, generative AI learns the underlying patterns and structures of the data it's trained on and uses this knowledge to generate new, similar data.  It does this by leveraging techniques like:\n",
      "\n",
      "* **Generative Adversarial Networks (GANs):** Two neural networks compete against each other—one generating data, the other evaluating its realism.\n",
      "* **Variational Autoencoders (VAEs):** Learn a compressed representation of the data and then use it to generate new samples.\n",
      "* **Diffusion models:** Gradually add noise to data and then learn to reverse the process to generate new samples.\n",
      "* **Large Language Models (LLMs):** Predict the next word in a sequence, generating coherent text.\n",
      "\n",
      "\n",
      "In essence, generative AI aims to learn the probability distribution of a dataset and then sample from that distribution to create novel outputs.  This has significant implications across various fields, from art and design to drug discovery and software development.\n",
      "\n"
     ]
    },
    {
     "name": "stdin",
     "output_type": "stream",
     "text": [
      "\n",
      "Enter your question (or type 'exit' to quit):  exit\n"
     ]
    },
    {
     "name": "stdout",
     "output_type": "stream",
     "text": [
      "Goodbye! 👋\n"
     ]
    }
   ],
   "source": [
    "import google.generativeai as genai\n",
    "# Configure your API key\n",
    "genai.configure(api_key=\"\")\n",
    "# Create the model instance\n",
    "model = genai.GenerativeModel(\"gemini-1.5-flash\")\n",
    "# Continuous question prompt loop\n",
    "while True:\n",
    "    user_question = input(\"\\nEnter your question (or type 'exit' to quit): \")   \n",
    "    if user_question.lower() == \"exit\":\n",
    "        print(\"Goodbye! 👋\")\n",
    "        break\n",
    "    response = model.generate_content(user_question)\n",
    "    print(\"\\nResponse:\", response.text)"
   ]
  },
  {
   "cell_type": "code",
   "execution_count": null,
   "id": "2b81f5d4-6abf-423e-a5de-5ab7293a5484",
   "metadata": {},
   "outputs": [],
   "source": []
  }
 ],
 "metadata": {
  "kernelspec": {
   "display_name": "Python 3 (ipykernel)",
   "language": "python",
   "name": "python3"
  },
  "language_info": {
   "codemirror_mode": {
    "name": "ipython",
    "version": 3
   },
   "file_extension": ".py",
   "mimetype": "text/x-python",
   "name": "python",
   "nbconvert_exporter": "python",
   "pygments_lexer": "ipython3",
   "version": "3.10.18"
  }
 },
 "nbformat": 4,
 "nbformat_minor": 5
}
